{
 "cells": [
  {
   "cell_type": "code",
   "execution_count": 1,
   "metadata": {},
   "outputs": [],
   "source": [
    "import os\n",
    "import numpy as np\n",
    "from data_loaders.cdr_dataset import CDR_Sample, make_cdr_dataset\n",
    "from transformers import ElectraTokenizer, ElectraForPreTraining"
   ]
  },
  {
   "cell_type": "code",
   "execution_count": 2,
   "metadata": {
    "scrolled": true
   },
   "outputs": [],
   "source": [
    "data = make_cdr_dataset('data/cdr/CDR_test.txt')"
   ]
  },
  {
   "cell_type": "code",
   "execution_count": 22,
   "metadata": {
    "scrolled": true
   },
   "outputs": [
    {
     "name": "stdout",
     "output_type": "stream",
     "text": [
      "seqs:  torch.Size([16, 490])\n",
      "masked_entities_encoded_seqs:  tensor([10, 10, 10, 10, 10, 10, 10,  1,  1,  1,  1, 10,  6,  6,  6,  6,  6,  6,\n",
      "        10, 10, 10, 10, 10, 10, 10, 10, 10, 10, 10,  3,  3,  3,  3,  3, 10,  2,\n",
      "         2,  2,  2,  2,  2, 10,  0,  0,  0,  0, 10, 10, 10, 10, 10, 10, 10, 10,\n",
      "        10, 10, 10, 10,  8,  8,  8, 10, 10, 10, 10, 10,  1,  1,  1,  1, 10, 10,\n",
      "        10, 10, 10, 10, 10, 10, 10, 10, 10, 10, 10,  6,  6,  6,  6,  6,  6, 10,\n",
      "        10, 10, 10,  3,  3,  3,  3,  3,  3,  3,  3,  3, 10,  3,  3,  3,  3,  3,\n",
      "        10, 10,  2,  2,  2,  2,  2,  2, 10,  0,  0,  0,  0,  0,  0, 10, 10, 10,\n",
      "        10, 10, 10, 10, 10, 10, 10, 10, 10, 10, 10, 10, 10, 10, 10, 10, 10, 10,\n",
      "        10, 10, 10, 10, 10, 10, 10, 10, 10, 10,  1,  1,  1,  1, 10,  6,  6,  6,\n",
      "         6,  6,  6, 10, 10, 10, 10, 10, 10, 10, 10, 10, 10, 10, 10, 10, 10,  3,\n",
      "         3,  3,  3,  3, 10, 10, 10, 10, 10, 10, 10, 10,  2,  2,  2,  2,  2,  2,\n",
      "        10, 10, 10, 10, 10, 10, 10, 10, 10, 10, 10, 10, 10, 10, 10, 10, 10, 10,\n",
      "        10, 10, 10, 10, 10, 10, 10, 10, 10, 10, 10, 10, 10, 10, 10, 10, 10, 10,\n",
      "        10, 10, 10, 10, 10, 10, 10, 10, 10, 10, 10, 10, 10, 10,  7,  7,  7,  7,\n",
      "         7,  7,  7, 10, 10, 10, 10, 10, 10, 10, 10, 10, 10, 10, 10, 10, 10, 10,\n",
      "        10, 10, 10, 10, 10,  0,  0,  0,  0,  0,  0, 10, 10, 10, 10, 10, 10, 10,\n",
      "        10, 10,  6,  6,  6,  6,  6,  6, 10, 10, 10, 10, 10, 10, 10, 10, 10, 10,\n",
      "        10, 10, 10, 10, 10, 10, 10, 10, 10, 10, 10, 10, 10, 10, 10, 10, 10, 10,\n",
      "        10, 10, 10, 10, 10, 10, 10, 10, 10, 10, 10, 10, 10, 10, 10, 10, 10, 10,\n",
      "        10, 10, 10, 10, 10, 10, 10, 10, 10, 10, 10, 10, 10, 10, 10, 10, 10, 10,\n",
      "        10, 10, 10, 10, 10, 10, 10, 10, 10, 10, 10, 10, 10, 10, 10, 10, 10, 10,\n",
      "         8,  8,  8,  8, 10,  9,  9,  9,  9,  9,  9,  9, 10,  5,  5,  5,  5,  5,\n",
      "         5, 10, 10, 10, 10, 10, 10, 10, 10, 10, 10, 10, 10, 10, 10, 10, 10, 10,\n",
      "        10, 10, 10,  8,  8,  8, 10, 10,  0,  0,  0,  0,  0,  0, 10, 10, 10, 10,\n",
      "        10, 10, 10, 10, 10, 10, 10,  8,  8,  8, 10, 10, 10, 10, 10, 10, 10, 10,\n",
      "        10, 10, 10, 10,  1,  1,  1,  1, 10, 10, 10, 10, 10, 10, 10, 10, 10, 10,\n",
      "         4,  4,  4,  4,  4, 10, 10, 10, 10, 10, -1, -1, -1, -1, -1, -1, -1, -1,\n",
      "        -1, -1, -1, -1])\n",
      "chemical_code_seqs:  16\n",
      "tensor(6)\n",
      "disease_code_seqs:  tensor([3, 8, 0, 1, 9, 1, 5, 8, 8, 3, 3, 0, 3, 8, 5, 2])\n",
      "label:  tensor([0, 0, 0, 0, 0, 0, 0, 0, 0, 0, 0, 0, 0, 1, 0, 0])\n"
     ]
    }
   ],
   "source": [
    "a,b,c = None, None, None\n",
    "for i, batch in (enumerate(data)):\n",
    "    seqs, masked_entities_encoded_seqs, chemical_code_seqs, disease_code_seqs, label = batch\n",
    "    print('seqs: ', seqs.shape)\n",
    "    print('masked_entities_encoded_seqs: ', masked_entities_encoded_seqs[1])\n",
    "    a = masked_entities_encoded_seqs[0]\n",
    "    print('chemical_code_seqs: ', chemical_code_seqs.shape[0])\n",
    "    b = chemical_code_seqs[0]\n",
    "    print(chemical_code_seqs[1])\n",
    "    print('disease_code_seqs: ', disease_code_seqs)\n",
    "    c = disease_code_seqs[0]\n",
    "    print('label: ', label)\n",
    "    break"
   ]
  },
  {
   "cell_type": "code",
   "execution_count": 5,
   "metadata": {},
   "outputs": [
    {
     "data": {
      "text/plain": [
       "{'D010423': {'text': 'pentazocine', 'entity_type': 'Chemical'},\n",
       " 'D009408': {'text': 'compression neuropathy', 'entity_type': 'Disease'},\n",
       " 'D009135': {'text': 'myopathy', 'entity_type': 'Disease'}}"
      ]
     },
     "execution_count": 5,
     "metadata": {},
     "output_type": "execute_result"
    }
   ],
   "source": [
    "data[0].entities_list"
   ]
  },
  {
   "cell_type": "code",
   "execution_count": 4,
   "metadata": {},
   "outputs": [],
   "source": [
    "true_data = [data[i] for i in range(len(data)) if data[i]['label'] == 1]"
   ]
  },
  {
   "cell_type": "code",
   "execution_count": 9,
   "metadata": {},
   "outputs": [],
   "source": [
    "tokenize = ElectraTokenizer.from_pretrained('google/electra-small-discriminator')"
   ]
  },
  {
   "cell_type": "code",
   "execution_count": 4,
   "metadata": {},
   "outputs": [],
   "source": [
    "with open('data/cdr/CDR_TrainingSet.PubTator.txt', 'r') as f:\n",
    "    raw_data = f.readlines()"
   ]
  },
  {
   "cell_type": "code",
   "execution_count": 5,
   "metadata": {
    "scrolled": true
   },
   "outputs": [],
   "source": [
    "a = []\n",
    "\n",
    "for r in raw_data:\n",
    "    if r != '\\n':\n",
    "        a.append(r)\n",
    "    else:\n",
    "        break"
   ]
  },
  {
   "cell_type": "code",
   "execution_count": 6,
   "metadata": {},
   "outputs": [
    {
     "data": {
      "text/plain": [
       "<transformers.tokenization_electra.ElectraTokenizer at 0x21bc51898c8>"
      ]
     },
     "execution_count": 6,
     "metadata": {},
     "output_type": "execute_result"
    }
   ],
   "source": [
    "tokenize"
   ]
  },
  {
   "cell_type": "code",
   "execution_count": 7,
   "metadata": {},
   "outputs": [],
   "source": [
    "g = CDR_Sample(text_list=a, tokenize=tokenize)"
   ]
  },
  {
   "cell_type": "code",
   "execution_count": 12,
   "metadata": {},
   "outputs": [
    {
     "data": {
      "text/plain": [
       "'[PAD]'"
      ]
     },
     "execution_count": 12,
     "metadata": {},
     "output_type": "execute_result"
    }
   ],
   "source": [
    "tokenize.pad_token"
   ]
  },
  {
   "cell_type": "code",
   "execution_count": 9,
   "metadata": {},
   "outputs": [
    {
     "data": {
      "text/plain": [
       "['227508|t|Naloxone reverses the antihypertensive effect of clonidine.\\n',\n",
       " '227508|a|In unanesthetized, spontaneously hypertensive rats the decrease in blood pressure and heart rate produced by intravenous clonidine, 5 to 20 micrograms/kg, was inhibited or reversed by nalozone, 0.2 to 2 mg/kg. The hypotensive effect of 100 mg/kg alpha-methyldopa was also partially reversed by naloxone. Naloxone alone did not affect either blood pressure or heart rate. In brain membranes from spontaneously hypertensive rats clonidine, 10(-8) to 10(-5) M, did not influence stereoselective binding of [3H]-naloxone (8 nM), and naloxone, 10(-8) to 10(-4) M, did not influence clonidine-suppressible binding of [3H]-dihydroergocryptine (1 nM). These findings indicate that in spontaneously hypertensive rats the effects of central alpha-adrenoceptor stimulation involve activation of opiate receptors. As naloxone and clonidine do not appear to interact with the same receptor site, the observed functional antagonism suggests the release of an endogenous opiate by clonidine or alpha-methyldopa and the possible role of the opiate in the central control of sympathetic tone.\\n',\n",
       " '227508\\t0\\t8\\tNaloxone\\tChemical\\tD009270\\n',\n",
       " '227508\\t49\\t58\\tclonidine\\tChemical\\tD003000\\n',\n",
       " '227508\\t93\\t105\\thypertensive\\tDisease\\tD006973\\n',\n",
       " '227508\\t181\\t190\\tclonidine\\tChemical\\tD003000\\n',\n",
       " '227508\\t244\\t252\\tnalozone\\tChemical\\t-1\\n',\n",
       " '227508\\t274\\t285\\thypotensive\\tDisease\\tD007022\\n',\n",
       " '227508\\t306\\t322\\talpha-methyldopa\\tChemical\\tD008750\\n',\n",
       " '227508\\t354\\t362\\tnaloxone\\tChemical\\tD009270\\n',\n",
       " '227508\\t364\\t372\\tNaloxone\\tChemical\\tD009270\\n',\n",
       " '227508\\t469\\t481\\thypertensive\\tDisease\\tD006973\\n',\n",
       " '227508\\t487\\t496\\tclonidine\\tChemical\\tD003000\\n',\n",
       " '227508\\t563\\t576\\t[3H]-naloxone\\tChemical\\t-1\\n',\n",
       " '227508\\t589\\t597\\tnaloxone\\tChemical\\tD009270\\n',\n",
       " '227508\\t637\\t646\\tclonidine\\tChemical\\tD003000\\n',\n",
       " '227508\\t671\\t695\\t[3H]-dihydroergocryptine\\tChemical\\t-1\\n',\n",
       " '227508\\t750\\t762\\thypertensive\\tDisease\\tD006973\\n',\n",
       " '227508\\t865\\t873\\tnaloxone\\tChemical\\tD009270\\n',\n",
       " '227508\\t878\\t887\\tclonidine\\tChemical\\tD003000\\n',\n",
       " '227508\\t1026\\t1035\\tclonidine\\tChemical\\tD003000\\n',\n",
       " '227508\\t1039\\t1055\\talpha-methyldopa\\tChemical\\tD008750\\n',\n",
       " '227508\\tCID\\tD008750\\tD007022\\n']"
      ]
     },
     "execution_count": 9,
     "metadata": {},
     "output_type": "execute_result"
    }
   ],
   "source": [
    "a"
   ]
  },
  {
   "cell_type": "code",
   "execution_count": 10,
   "metadata": {
    "scrolled": true
   },
   "outputs": [
    {
     "data": {
      "text/plain": [
       "False"
      ]
     },
     "execution_count": 10,
     "metadata": {},
     "output_type": "execute_result"
    }
   ],
   "source": [
    "('abc', '13') in [('abc', '123'), ('ggg', '32423')]"
   ]
  },
  {
   "cell_type": "code",
   "execution_count": null,
   "metadata": {},
   "outputs": [],
   "source": [
    "g.make_example(use_entity_token=False)"
   ]
  },
  {
   "cell_type": "code",
   "execution_count": 12,
   "metadata": {},
   "outputs": [
    {
     "data": {
      "text/plain": [
       "['D009270', 'D003000', 'D008750']"
      ]
     },
     "execution_count": 12,
     "metadata": {},
     "output_type": "execute_result"
    }
   ],
   "source": [
    "g.get_list_code_by_type(type='Chemical')"
   ]
  },
  {
   "cell_type": "code",
   "execution_count": 13,
   "metadata": {},
   "outputs": [
    {
     "data": {
      "text/plain": [
       "['D006973', 'D007022']"
      ]
     },
     "execution_count": 13,
     "metadata": {},
     "output_type": "execute_result"
    }
   ],
   "source": [
    "g.get_list_code_by_type(type='Disease')"
   ]
  },
  {
   "cell_type": "code",
   "execution_count": 14,
   "metadata": {},
   "outputs": [
    {
     "data": {
      "text/plain": [
       "[('D008750', 'D007022')]"
      ]
     },
     "execution_count": 14,
     "metadata": {},
     "output_type": "execute_result"
    }
   ],
   "source": [
    "g.correct_answers"
   ]
  },
  {
   "cell_type": "code",
   "execution_count": 8,
   "metadata": {},
   "outputs": [
    {
     "data": {
      "text/plain": [
       "'abcd'"
      ]
     },
     "execution_count": 8,
     "metadata": {},
     "output_type": "execute_result"
    }
   ],
   "source": [
    "'abcdefgh'[0:4]"
   ]
  },
  {
   "cell_type": "code",
   "execution_count": 13,
   "metadata": {},
   "outputs": [
    {
     "name": "stdout",
     "output_type": "stream",
     "text": [
      "4\n",
      "3\n",
      "2\n",
      "1\n"
     ]
    }
   ],
   "source": [
    "for i in reversed([1,2,3,4]):\n",
    "    print(i)"
   ]
  },
  {
   "cell_type": "code",
   "execution_count": 10,
   "metadata": {},
   "outputs": [],
   "source": [
    "a = ([5,4,3,656])"
   ]
  },
  {
   "cell_type": "code",
   "execution_count": 11,
   "metadata": {},
   "outputs": [
    {
     "data": {
      "text/plain": [
       "[5, 4, 3, 656]"
      ]
     },
     "execution_count": 11,
     "metadata": {},
     "output_type": "execute_result"
    }
   ],
   "source": [
    "a"
   ]
  },
  {
   "cell_type": "code",
   "execution_count": 13,
   "metadata": {},
   "outputs": [
    {
     "data": {
      "text/plain": [
       "2"
      ]
     },
     "execution_count": 13,
     "metadata": {},
     "output_type": "execute_result"
    }
   ],
   "source": [
    "a.index(min(a))"
   ]
  },
  {
   "cell_type": "code",
   "execution_count": null,
   "metadata": {},
   "outputs": [],
   "source": []
  }
 ],
 "metadata": {
  "kernelspec": {
   "display_name": "Python 3",
   "language": "python",
   "name": "python3"
  },
  "language_info": {
   "codemirror_mode": {
    "name": "ipython",
    "version": 3
   },
   "file_extension": ".py",
   "mimetype": "text/x-python",
   "name": "python",
   "nbconvert_exporter": "python",
   "pygments_lexer": "ipython3",
   "version": "3.7.7"
  }
 },
 "nbformat": 4,
 "nbformat_minor": 4
}
